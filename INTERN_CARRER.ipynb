{
  "nbformat": 4,
  "nbformat_minor": 0,
  "metadata": {
    "colab": {
      "private_outputs": true,
      "provenance": [],
      "cell_execution_strategy": "setup",
      "authorship_tag": "ABX9TyOpfRtc9Z26uAjrjNCXmkF1",
      "include_colab_link": true
    },
    "kernelspec": {
      "name": "python3",
      "display_name": "Python 3"
    },
    "language_info": {
      "name": "python"
    }
  },
  "cells": [
    {
      "cell_type": "markdown",
      "metadata": {
        "id": "view-in-github",
        "colab_type": "text"
      },
      "source": [
        "<a href=\"https://colab.research.google.com/github/bekuretsion/Data-Analytics-Bootcamp/blob/main/INTERN_CARRER.ipynb\" target=\"_parent\"><img src=\"https://colab.research.google.com/assets/colab-badge.svg\" alt=\"Open In Colab\"/></a>"
      ]
    },
    {
      "cell_type": "markdown",
      "source": [
        "For data exploration, you can use various techniques to understand the dataset\n",
        "\n",
        "\n",
        "*   **To Load the Dataset:**\n",
        "\n",
        "\n",
        "\n",
        "*  *Import* necessary libraries (e.g., pandas, numpy,plt).\n",
        "*   *Load* the dataset into a *DataFrame*\n",
        "\n",
        "\n",
        "\n",
        "\n"
      ],
      "metadata": {
        "id": "yb23P-FwaXxw"
      }
    },
    {
      "cell_type": "code",
      "execution_count": null,
      "metadata": {
        "id": "h7-iNjD4WVQ8"
      },
      "outputs": [],
      "source": [
        "import matplotlib.pyplot as plt\n",
        "import pandas as pd\n",
        "import numpy as np\n",
        "from google.colab import drive\n",
        "drive.mount('/content/drive')"
      ]
    },
    {
      "cell_type": "code",
      "source": [
        "df=pd.read_csv(\"/content/drive/MyDrive/Data Science/Data Science/Task 1 YouTube Streamer Analysis/youtubers_df.csv\")\n",
        "df.head()\n",
        "print(df.head()) ## Display the first few rows of the dataset\n"
      ],
      "metadata": {
        "id": "d5CRl8UUW_LZ"
      },
      "execution_count": null,
      "outputs": []
    },
    {
      "cell_type": "code",
      "source": [
        "print(df.describe()) # to get a statistics summary"
      ],
      "metadata": {
        "id": "AkntMaijb5hl"
      },
      "execution_count": null,
      "outputs": []
    },
    {
      "cell_type": "markdown",
      "source": [
        "Task 1.2 **Check for missing data and outliers.**"
      ],
      "metadata": {
        "id": "3OKpz8-YcWnm"
      }
    },
    {
      "cell_type": "code",
      "source": [
        "print(df.isnull().sum()) # check for missing data[Identify and handle missing data.]"
      ],
      "metadata": {
        "id": "3wyk_9T-cNzK"
      },
      "execution_count": null,
      "outputs": []
    },
    {
      "cell_type": "code",
      "source": [
        "df.boxplot(column='Comments')\n",
        "plt.title(\"Checking Outliars in the `Comments` column\")\n",
        "plt.show()"
      ],
      "metadata": {
        "id": "bHtvjMzCcu1n"
      },
      "execution_count": null,
      "outputs": []
    },
    {
      "cell_type": "markdown",
      "source": [],
      "metadata": {
        "id": "0F_3ey5naVRO"
      }
    },
    {
      "cell_type": "code",
      "source": [
        "df.boxplot(column=\"Likes\")\n",
        "plt.title(\"Checking Outliars in the `Comments` column\")\n",
        "plt.show()"
      ],
      "metadata": {
        "id": "NXzeb6KeaMda"
      },
      "execution_count": null,
      "outputs": []
    }
  ]
}